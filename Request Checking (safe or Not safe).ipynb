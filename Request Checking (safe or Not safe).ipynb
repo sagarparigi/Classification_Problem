{
 "cells": [
  {
   "cell_type": "markdown",
   "metadata": {},
   "source": [
    "# Classifying whether the request is Safe or Not:"
   ]
  },
  {
   "cell_type": "markdown",
   "metadata": {},
   "source": [
    "# Libararies required for this CLassification Problem"
   ]
  },
  {
   "cell_type": "code",
   "execution_count": 1,
   "metadata": {},
   "outputs": [],
   "source": [
    "import pandas as pd\n",
    "import numpy as np"
   ]
  },
  {
   "cell_type": "markdown",
   "metadata": {},
   "source": [
    "# Reading data "
   ]
  },
  {
   "cell_type": "code",
   "execution_count": 2,
   "metadata": {},
   "outputs": [],
   "source": [
    "path = \"C:\\\\Program Files\\\\Notepad++\\\\data.json\""
   ]
  },
  {
   "cell_type": "code",
   "execution_count": 3,
   "metadata": {},
   "outputs": [],
   "source": [
    "data = pd.read_json(path)"
   ]
  },
  {
   "cell_type": "code",
   "execution_count": 4,
   "metadata": {},
   "outputs": [
    {
     "name": "stdout",
     "output_type": "stream",
     "text": [
      "                                                   req  isSafe\n",
      "0    {'baseUrl': '/crm/note', 'body': {'note': {'ti...    True\n",
      "1    {'baseUrl': '/crm/note', 'body': {'note': {'ti...    True\n",
      "2    {'baseUrl': '/crm/note', 'body': {'note': {'ti...   False\n",
      "3    {'baseUrl': '/crm/note', 'body': {'note': {'ti...    True\n",
      "4    {'baseUrl': '/crm/note', 'body': {'note': {'ti...   False\n",
      "..                                                 ...     ...\n",
      "995  {'baseUrl': '/crm/note', 'body': {'note': {'ti...    True\n",
      "996  {'baseUrl': '/crm/note', 'body': {'note': {'ti...   False\n",
      "997  {'baseUrl': '/crm/note', 'body': {'note': {'ti...    True\n",
      "998  {'baseUrl': '/crm/note', 'body': {'note': {'ti...    True\n",
      "999  {'baseUrl': '/crm/note', 'body': {'note': {'ti...    True\n",
      "\n",
      "[1000 rows x 2 columns]\n"
     ]
    }
   ],
   "source": [
    "print(data)"
   ]
  },
  {
   "cell_type": "markdown",
   "metadata": {},
   "source": [
    "# They were in json format i,e Dictionaries like format so , normalizing to Standard Format"
   ]
  },
  {
   "cell_type": "code",
   "execution_count": 5,
   "metadata": {},
   "outputs": [],
   "source": [
    "data1 = pd.json_normalize(data.req)"
   ]
  },
  {
   "cell_type": "code",
   "execution_count": 6,
   "metadata": {},
   "outputs": [
    {
     "data": {
      "text/html": [
       "<div>\n",
       "<style scoped>\n",
       "    .dataframe tbody tr th:only-of-type {\n",
       "        vertical-align: middle;\n",
       "    }\n",
       "\n",
       "    .dataframe tbody tr th {\n",
       "        vertical-align: top;\n",
       "    }\n",
       "\n",
       "    .dataframe thead th {\n",
       "        text-align: right;\n",
       "    }\n",
       "</style>\n",
       "<table border=\"1\" class=\"dataframe\">\n",
       "  <thead>\n",
       "    <tr style=\"text-align: right;\">\n",
       "      <th></th>\n",
       "      <th>baseUrl</th>\n",
       "      <th>fresh</th>\n",
       "      <th>hostname</th>\n",
       "      <th>ip</th>\n",
       "      <th>ips</th>\n",
       "      <th>originalUrl</th>\n",
       "      <th>path</th>\n",
       "      <th>protocol</th>\n",
       "      <th>secure</th>\n",
       "      <th>stale</th>\n",
       "      <th>...</th>\n",
       "      <th>body.note.desc</th>\n",
       "      <th>headers.host</th>\n",
       "      <th>headers.user-agent</th>\n",
       "      <th>headers.content-type</th>\n",
       "      <th>headers.org_id</th>\n",
       "      <th>headers.user_session_id</th>\n",
       "      <th>headers.accept</th>\n",
       "      <th>headers.content-length</th>\n",
       "      <th>headers.user.name</th>\n",
       "      <th>headers.user.role</th>\n",
       "    </tr>\n",
       "  </thead>\n",
       "  <tbody>\n",
       "    <tr>\n",
       "      <th>0</th>\n",
       "      <td>/crm/note</td>\n",
       "      <td>False</td>\n",
       "      <td>example.com</td>\n",
       "      <td>::ffff:117.99.96.244</td>\n",
       "      <td>[]</td>\n",
       "      <td>/crm/note</td>\n",
       "      <td>/note</td>\n",
       "      <td>http</td>\n",
       "      <td>False</td>\n",
       "      <td>True</td>\n",
       "      <td>...</td>\n",
       "      <td>Top recognize eat. Fact whom spend area thing ...</td>\n",
       "      <td>example.com</td>\n",
       "      <td>insomnia/2020.4.2</td>\n",
       "      <td>application/json</td>\n",
       "      <td>5f572820f65af8ac955b2e83</td>\n",
       "      <td>5fb27d3750b11901a35649fe</td>\n",
       "      <td>*/*</td>\n",
       "      <td>70</td>\n",
       "      <td>sam</td>\n",
       "      <td>sales1</td>\n",
       "    </tr>\n",
       "    <tr>\n",
       "      <th>1</th>\n",
       "      <td>/crm/note</td>\n",
       "      <td>False</td>\n",
       "      <td>example.com</td>\n",
       "      <td>::ffff:117.99.96.244</td>\n",
       "      <td>[]</td>\n",
       "      <td>/crm/note</td>\n",
       "      <td>/note</td>\n",
       "      <td>http</td>\n",
       "      <td>False</td>\n",
       "      <td>True</td>\n",
       "      <td>...</td>\n",
       "      <td>As possible American many prepare four strong....</td>\n",
       "      <td>example.com</td>\n",
       "      <td>insomnia/2020.4.2</td>\n",
       "      <td>application/json</td>\n",
       "      <td>5f572820f65af8ac955b2e83</td>\n",
       "      <td>5fb27d3750b11901a35649fe</td>\n",
       "      <td>*/*</td>\n",
       "      <td>70</td>\n",
       "      <td>sam</td>\n",
       "      <td>sales1</td>\n",
       "    </tr>\n",
       "    <tr>\n",
       "      <th>2</th>\n",
       "      <td>/crm/note</td>\n",
       "      <td>False</td>\n",
       "      <td>example.com</td>\n",
       "      <td>::ffff:117.99.96.244</td>\n",
       "      <td>[]</td>\n",
       "      <td>/crm/note</td>\n",
       "      <td>/note</td>\n",
       "      <td>http</td>\n",
       "      <td>False</td>\n",
       "      <td>True</td>\n",
       "      <td>...</td>\n",
       "      <td>Tuesday Notes or 2 like 2 XSP Class</td>\n",
       "      <td>example.com</td>\n",
       "      <td>insomnia/2020.4.2</td>\n",
       "      <td>application/json</td>\n",
       "      <td>5f572820f65af8ac955b2e83</td>\n",
       "      <td>5fb27d3750b11901a35649fe</td>\n",
       "      <td>*/*</td>\n",
       "      <td>70</td>\n",
       "      <td>sam</td>\n",
       "      <td>sales1</td>\n",
       "    </tr>\n",
       "    <tr>\n",
       "      <th>3</th>\n",
       "      <td>/crm/note</td>\n",
       "      <td>False</td>\n",
       "      <td>example.com</td>\n",
       "      <td>::ffff:117.99.96.244</td>\n",
       "      <td>[]</td>\n",
       "      <td>/crm/note</td>\n",
       "      <td>/note</td>\n",
       "      <td>http</td>\n",
       "      <td>False</td>\n",
       "      <td>True</td>\n",
       "      <td>...</td>\n",
       "      <td>State third represent energy campaign not forg...</td>\n",
       "      <td>example.com</td>\n",
       "      <td>insomnia/2020.4.2</td>\n",
       "      <td>application/json</td>\n",
       "      <td>5f572820f65af8ac955b2e83</td>\n",
       "      <td>5fb27d3750b11901a35649fe</td>\n",
       "      <td>*/*</td>\n",
       "      <td>70</td>\n",
       "      <td>sam</td>\n",
       "      <td>sales1</td>\n",
       "    </tr>\n",
       "    <tr>\n",
       "      <th>4</th>\n",
       "      <td>/crm/note</td>\n",
       "      <td>False</td>\n",
       "      <td>example.com</td>\n",
       "      <td>::ffff:117.99.96.244</td>\n",
       "      <td>[]</td>\n",
       "      <td>/crm/note</td>\n",
       "      <td>/note</td>\n",
       "      <td>http</td>\n",
       "      <td>False</td>\n",
       "      <td>True</td>\n",
       "      <td>...</td>\n",
       "      <td>Us enjoy since. Time identify image position o...</td>\n",
       "      <td>example.com</td>\n",
       "      <td>insomnia/2020.4.2</td>\n",
       "      <td>application/json</td>\n",
       "      <td>5f572820f65af8ac955b2e83</td>\n",
       "      <td>5fb27d3750b11901a35649fe</td>\n",
       "      <td>*/*</td>\n",
       "      <td>70</td>\n",
       "      <td>sam</td>\n",
       "      <td>sales1</td>\n",
       "    </tr>\n",
       "    <tr>\n",
       "      <th>...</th>\n",
       "      <td>...</td>\n",
       "      <td>...</td>\n",
       "      <td>...</td>\n",
       "      <td>...</td>\n",
       "      <td>...</td>\n",
       "      <td>...</td>\n",
       "      <td>...</td>\n",
       "      <td>...</td>\n",
       "      <td>...</td>\n",
       "      <td>...</td>\n",
       "      <td>...</td>\n",
       "      <td>...</td>\n",
       "      <td>...</td>\n",
       "      <td>...</td>\n",
       "      <td>...</td>\n",
       "      <td>...</td>\n",
       "      <td>...</td>\n",
       "      <td>...</td>\n",
       "      <td>...</td>\n",
       "      <td>...</td>\n",
       "      <td>...</td>\n",
       "    </tr>\n",
       "    <tr>\n",
       "      <th>995</th>\n",
       "      <td>/crm/note</td>\n",
       "      <td>False</td>\n",
       "      <td>example.com</td>\n",
       "      <td>::ffff:117.99.96.244</td>\n",
       "      <td>[]</td>\n",
       "      <td>/crm/note</td>\n",
       "      <td>/note</td>\n",
       "      <td>http</td>\n",
       "      <td>False</td>\n",
       "      <td>True</td>\n",
       "      <td>...</td>\n",
       "      <td>Recently crime before five thought bit. Card f...</td>\n",
       "      <td>example.com</td>\n",
       "      <td>insomnia/2020.4.2</td>\n",
       "      <td>application/json</td>\n",
       "      <td>5f572820f65af8ac955b2e83</td>\n",
       "      <td>5fb27d3750b11901a35649fe</td>\n",
       "      <td>*/*</td>\n",
       "      <td>70</td>\n",
       "      <td>sam</td>\n",
       "      <td>sales1</td>\n",
       "    </tr>\n",
       "    <tr>\n",
       "      <th>996</th>\n",
       "      <td>/crm/note</td>\n",
       "      <td>False</td>\n",
       "      <td>example.com</td>\n",
       "      <td>::ffff:117.99.96.244</td>\n",
       "      <td>[]</td>\n",
       "      <td>/crm/note</td>\n",
       "      <td>/note</td>\n",
       "      <td>http</td>\n",
       "      <td>False</td>\n",
       "      <td>True</td>\n",
       "      <td>...</td>\n",
       "      <td>&lt;img src=1 href=1 onerror=\"javascript:alert(1)...</td>\n",
       "      <td>example.com</td>\n",
       "      <td>insomnia/2020.4.2</td>\n",
       "      <td>application/json</td>\n",
       "      <td>5f572820f65af8ac955b2e83</td>\n",
       "      <td>5fb27d3750b11901a35649fe</td>\n",
       "      <td>*/*</td>\n",
       "      <td>70</td>\n",
       "      <td>sam</td>\n",
       "      <td>sales1</td>\n",
       "    </tr>\n",
       "    <tr>\n",
       "      <th>997</th>\n",
       "      <td>/crm/note</td>\n",
       "      <td>False</td>\n",
       "      <td>example.com</td>\n",
       "      <td>::ffff:117.99.96.244</td>\n",
       "      <td>[]</td>\n",
       "      <td>/crm/note</td>\n",
       "      <td>/note</td>\n",
       "      <td>http</td>\n",
       "      <td>False</td>\n",
       "      <td>True</td>\n",
       "      <td>...</td>\n",
       "      <td>Set nature they then low resource truth. Edge ...</td>\n",
       "      <td>example.com</td>\n",
       "      <td>insomnia/2020.4.2</td>\n",
       "      <td>application/json</td>\n",
       "      <td>5f572820f65af8ac955b2e83</td>\n",
       "      <td>5fb27d3750b11901a35649fe</td>\n",
       "      <td>*/*</td>\n",
       "      <td>70</td>\n",
       "      <td>sam</td>\n",
       "      <td>sales1</td>\n",
       "    </tr>\n",
       "    <tr>\n",
       "      <th>998</th>\n",
       "      <td>/crm/note</td>\n",
       "      <td>False</td>\n",
       "      <td>example.com</td>\n",
       "      <td>::ffff:117.99.96.244</td>\n",
       "      <td>[]</td>\n",
       "      <td>/crm/note</td>\n",
       "      <td>/note</td>\n",
       "      <td>http</td>\n",
       "      <td>False</td>\n",
       "      <td>True</td>\n",
       "      <td>...</td>\n",
       "      <td>Push case them such face suffer. Letter middle...</td>\n",
       "      <td>example.com</td>\n",
       "      <td>insomnia/2020.4.2</td>\n",
       "      <td>application/json</td>\n",
       "      <td>5f572820f65af8ac955b2e83</td>\n",
       "      <td>5fb27d3750b11901a35649fe</td>\n",
       "      <td>*/*</td>\n",
       "      <td>70</td>\n",
       "      <td>sam</td>\n",
       "      <td>sales1</td>\n",
       "    </tr>\n",
       "    <tr>\n",
       "      <th>999</th>\n",
       "      <td>/crm/note</td>\n",
       "      <td>False</td>\n",
       "      <td>example.com</td>\n",
       "      <td>::ffff:117.99.96.244</td>\n",
       "      <td>[]</td>\n",
       "      <td>/crm/note</td>\n",
       "      <td>/note</td>\n",
       "      <td>http</td>\n",
       "      <td>False</td>\n",
       "      <td>True</td>\n",
       "      <td>...</td>\n",
       "      <td>Family ready stay rule full than yet. Moment o...</td>\n",
       "      <td>example.com</td>\n",
       "      <td>insomnia/2020.4.2</td>\n",
       "      <td>application/json</td>\n",
       "      <td>5f572820f65af8ac955b2e83</td>\n",
       "      <td>5fb27d3750b11901a35649fe</td>\n",
       "      <td>*/*</td>\n",
       "      <td>70</td>\n",
       "      <td>sam</td>\n",
       "      <td>sales1</td>\n",
       "    </tr>\n",
       "  </tbody>\n",
       "</table>\n",
       "<p>1000 rows × 23 columns</p>\n",
       "</div>"
      ],
      "text/plain": [
       "       baseUrl  fresh     hostname                    ip ips originalUrl  \\\n",
       "0    /crm/note  False  example.com  ::ffff:117.99.96.244  []   /crm/note   \n",
       "1    /crm/note  False  example.com  ::ffff:117.99.96.244  []   /crm/note   \n",
       "2    /crm/note  False  example.com  ::ffff:117.99.96.244  []   /crm/note   \n",
       "3    /crm/note  False  example.com  ::ffff:117.99.96.244  []   /crm/note   \n",
       "4    /crm/note  False  example.com  ::ffff:117.99.96.244  []   /crm/note   \n",
       "..         ...    ...          ...                   ...  ..         ...   \n",
       "995  /crm/note  False  example.com  ::ffff:117.99.96.244  []   /crm/note   \n",
       "996  /crm/note  False  example.com  ::ffff:117.99.96.244  []   /crm/note   \n",
       "997  /crm/note  False  example.com  ::ffff:117.99.96.244  []   /crm/note   \n",
       "998  /crm/note  False  example.com  ::ffff:117.99.96.244  []   /crm/note   \n",
       "999  /crm/note  False  example.com  ::ffff:117.99.96.244  []   /crm/note   \n",
       "\n",
       "      path protocol  secure  stale  ...  \\\n",
       "0    /note     http   False   True  ...   \n",
       "1    /note     http   False   True  ...   \n",
       "2    /note     http   False   True  ...   \n",
       "3    /note     http   False   True  ...   \n",
       "4    /note     http   False   True  ...   \n",
       "..     ...      ...     ...    ...  ...   \n",
       "995  /note     http   False   True  ...   \n",
       "996  /note     http   False   True  ...   \n",
       "997  /note     http   False   True  ...   \n",
       "998  /note     http   False   True  ...   \n",
       "999  /note     http   False   True  ...   \n",
       "\n",
       "                                        body.note.desc  headers.host  \\\n",
       "0    Top recognize eat. Fact whom spend area thing ...   example.com   \n",
       "1    As possible American many prepare four strong....   example.com   \n",
       "2                  Tuesday Notes or 2 like 2 XSP Class   example.com   \n",
       "3    State third represent energy campaign not forg...   example.com   \n",
       "4    Us enjoy since. Time identify image position o...   example.com   \n",
       "..                                                 ...           ...   \n",
       "995  Recently crime before five thought bit. Card f...   example.com   \n",
       "996  <img src=1 href=1 onerror=\"javascript:alert(1)...   example.com   \n",
       "997  Set nature they then low resource truth. Edge ...   example.com   \n",
       "998  Push case them such face suffer. Letter middle...   example.com   \n",
       "999  Family ready stay rule full than yet. Moment o...   example.com   \n",
       "\n",
       "    headers.user-agent headers.content-type            headers.org_id  \\\n",
       "0    insomnia/2020.4.2     application/json  5f572820f65af8ac955b2e83   \n",
       "1    insomnia/2020.4.2     application/json  5f572820f65af8ac955b2e83   \n",
       "2    insomnia/2020.4.2     application/json  5f572820f65af8ac955b2e83   \n",
       "3    insomnia/2020.4.2     application/json  5f572820f65af8ac955b2e83   \n",
       "4    insomnia/2020.4.2     application/json  5f572820f65af8ac955b2e83   \n",
       "..                 ...                  ...                       ...   \n",
       "995  insomnia/2020.4.2     application/json  5f572820f65af8ac955b2e83   \n",
       "996  insomnia/2020.4.2     application/json  5f572820f65af8ac955b2e83   \n",
       "997  insomnia/2020.4.2     application/json  5f572820f65af8ac955b2e83   \n",
       "998  insomnia/2020.4.2     application/json  5f572820f65af8ac955b2e83   \n",
       "999  insomnia/2020.4.2     application/json  5f572820f65af8ac955b2e83   \n",
       "\n",
       "      headers.user_session_id headers.accept headers.content-length  \\\n",
       "0    5fb27d3750b11901a35649fe            */*                     70   \n",
       "1    5fb27d3750b11901a35649fe            */*                     70   \n",
       "2    5fb27d3750b11901a35649fe            */*                     70   \n",
       "3    5fb27d3750b11901a35649fe            */*                     70   \n",
       "4    5fb27d3750b11901a35649fe            */*                     70   \n",
       "..                        ...            ...                    ...   \n",
       "995  5fb27d3750b11901a35649fe            */*                     70   \n",
       "996  5fb27d3750b11901a35649fe            */*                     70   \n",
       "997  5fb27d3750b11901a35649fe            */*                     70   \n",
       "998  5fb27d3750b11901a35649fe            */*                     70   \n",
       "999  5fb27d3750b11901a35649fe            */*                     70   \n",
       "\n",
       "    headers.user.name headers.user.role  \n",
       "0                 sam            sales1  \n",
       "1                 sam            sales1  \n",
       "2                 sam            sales1  \n",
       "3                 sam            sales1  \n",
       "4                 sam            sales1  \n",
       "..                ...               ...  \n",
       "995               sam            sales1  \n",
       "996               sam            sales1  \n",
       "997               sam            sales1  \n",
       "998               sam            sales1  \n",
       "999               sam            sales1  \n",
       "\n",
       "[1000 rows x 23 columns]"
      ]
     },
     "execution_count": 6,
     "metadata": {},
     "output_type": "execute_result"
    }
   ],
   "source": [
    "data1"
   ]
  },
  {
   "cell_type": "markdown",
   "metadata": {},
   "source": [
    "# Check for redundancy Columns"
   ]
  },
  {
   "cell_type": "code",
   "execution_count": 7,
   "metadata": {},
   "outputs": [
    {
     "data": {
      "text/plain": [
       "/crm/note    1000\n",
       "Name: baseUrl, dtype: int64"
      ]
     },
     "execution_count": 7,
     "metadata": {},
     "output_type": "execute_result"
    }
   ],
   "source": [
    "data1.baseUrl.value_counts()"
   ]
  },
  {
   "cell_type": "markdown",
   "metadata": {},
   "source": [
    "# There are redudancies so , it is not necesssary for us OR it is not that much useful for our Classification.\n",
    "## -->lets check for whole data and if present drop that !!"
   ]
  },
  {
   "cell_type": "code",
   "execution_count": 8,
   "metadata": {},
   "outputs": [
    {
     "data": {
      "text/plain": [
       "'baseUrl'"
      ]
     },
     "execution_count": 8,
     "metadata": {},
     "output_type": "execute_result"
    }
   ],
   "source": [
    "data1.columns[0]"
   ]
  },
  {
   "cell_type": "code",
   "execution_count": 9,
   "metadata": {},
   "outputs": [],
   "source": [
    "a = len(data1.columns)"
   ]
  },
  {
   "cell_type": "code",
   "execution_count": 10,
   "metadata": {},
   "outputs": [
    {
     "name": "stdout",
     "output_type": "stream",
     "text": [
      "['baseUrl', 'fresh', 'hostname', 'ip', 'ips', 'originalUrl', 'path', 'protocol', 'secure', 'stale', 'subdomains', 'xhr', 'body.note.title', 'body.note.desc', 'headers.host', 'headers.user-agent', 'headers.content-type', 'headers.org_id', 'headers.user_session_id', 'headers.accept', 'headers.content-length', 'headers.user.name', 'headers.user.role']\n"
     ]
    }
   ],
   "source": [
    "lst = []\n",
    "for i in range(a):\n",
    "    b = data1.columns[i]\n",
    "    lst.append(b)\n",
    "print(lst)"
   ]
  },
  {
   "cell_type": "code",
   "execution_count": 11,
   "metadata": {},
   "outputs": [
    {
     "name": "stdout",
     "output_type": "stream",
     "text": [
      "/crm/note    1000\n",
      "Name: baseUrl, dtype: int64\n",
      "False    1000\n",
      "Name: fresh, dtype: int64\n",
      "example.com    1000\n",
      "Name: hostname, dtype: int64\n",
      "::ffff:117.99.96.244    1000\n",
      "Name: ip, dtype: int64\n",
      "[]    1000\n",
      "Name: ips, dtype: int64\n",
      "/crm/note    1000\n",
      "Name: originalUrl, dtype: int64\n",
      "/note    1000\n",
      "Name: path, dtype: int64\n",
      "http    1000\n",
      "Name: protocol, dtype: int64\n",
      "False    1000\n",
      "Name: secure, dtype: int64\n",
      "True    1000\n",
      "Name: stale, dtype: int64\n",
      "[crm]    1000\n",
      "Name: subdomains, dtype: int64\n",
      "False    1000\n",
      "Name: xhr, dtype: int64\n",
      "Michael Smith      3\n",
      "Heather Davis      2\n",
      "Heather Smith      2\n",
      "David Adams        2\n",
      "Michael Davis      2\n",
      "                  ..\n",
      "Adam Wolf          1\n",
      "Tony Richardson    1\n",
      "Donna Marsh        1\n",
      "Jodi Howe          1\n",
      "Ryan Ball          1\n",
      "Name: body.note.title, Length: 994, dtype: int64\n",
      "note title <title onPropertyChange title onPropertyChange=\"javascript:javascript:alert(1)\"></title onPropertyChange>                                                                                  36\n",
      "Meeting \")) or ((\"x\"))=((\"x Notes 12:30                                                                                                                                                               33\n",
      "text1<video src=1 href=1 onerror=\"javascript:alert(1)\"></video>hello                                                                                                                                  32\n",
      "ext1%3Cvideo+src%3D1+href%3D1+onerror%3D%22javascript%3Aalert%281%29%22%3E%3C%2Fvideo%3E                                                                                                              29\n",
      "notes --><!-- -->> <img src=xxx:x onerror=javascript:alert(1)> --> hello de                                                                                                                           29\n",
      "                                                                                                                                                                                                      ..\n",
      "Adult per power arm power miss. Pattern wall throughout win art statement.\\nRather who popular recent include often however. Human also page idea. Allow subject agency floor the perhaps develop.     1\n",
      "Job him church early. Pick explain to decision range up. Behavior entire someone perform. Issue thus chair.\\nClearly baby when eat line. Main information expect support behind military.              1\n",
      "Very outside us us enough bill let. Girl wrong economy. Everything break record.\\nWatch up customer imagine ready. Treat yourself unit.                                                                1\n",
      "Share whole five perhaps. Participant process store compare name reveal. House no develop must north crime poor may.\\nOfficial work president piece. Less meet half pressure small.                    1\n",
      "Collection first approach range.\\nMemory system risk despite product story. Ever their region return play receive chance when. Event drug poor.                                                        1\n",
      "Name: body.note.desc, Length: 750, dtype: int64\n",
      "example.com    1000\n",
      "Name: headers.host, dtype: int64\n",
      "insomnia/2020.4.2    1000\n",
      "Name: headers.user-agent, dtype: int64\n",
      "application/json    1000\n",
      "Name: headers.content-type, dtype: int64\n",
      "5f572820f65af8ac955b2e83    1000\n",
      "Name: headers.org_id, dtype: int64\n",
      "5fb27d3750b11901a35649fe    1000\n",
      "Name: headers.user_session_id, dtype: int64\n",
      "*/*    1000\n",
      "Name: headers.accept, dtype: int64\n",
      "70    1000\n",
      "Name: headers.content-length, dtype: int64\n",
      "sam    1000\n",
      "Name: headers.user.name, dtype: int64\n",
      "sales1    1000\n",
      "Name: headers.user.role, dtype: int64\n"
     ]
    }
   ],
   "source": [
    "for i in lst:\n",
    "    print(data1[i].value_counts()) "
   ]
  },
  {
   "cell_type": "code",
   "execution_count": 12,
   "metadata": {},
   "outputs": [
    {
     "data": {
      "text/plain": [
       "sales1    1000\n",
       "Name: headers.user.role, dtype: int64"
      ]
     },
     "execution_count": 12,
     "metadata": {},
     "output_type": "execute_result"
    }
   ],
   "source": [
    "i = 'headers.user.role'\n",
    "data1[i].value_counts()"
   ]
  },
  {
   "cell_type": "markdown",
   "metadata": {},
   "source": [
    "# -->So, there are 21 Columns which are redundant."
   ]
  },
  {
   "cell_type": "markdown",
   "metadata": {},
   "source": [
    "# -->Only 2 Columns that are different."
   ]
  },
  {
   "cell_type": "code",
   "execution_count": 13,
   "metadata": {},
   "outputs": [],
   "source": [
    "data_req = data1[['body.note.title','body.note.desc']].copy()"
   ]
  },
  {
   "cell_type": "code",
   "execution_count": 14,
   "metadata": {},
   "outputs": [
    {
     "data": {
      "text/html": [
       "<div>\n",
       "<style scoped>\n",
       "    .dataframe tbody tr th:only-of-type {\n",
       "        vertical-align: middle;\n",
       "    }\n",
       "\n",
       "    .dataframe tbody tr th {\n",
       "        vertical-align: top;\n",
       "    }\n",
       "\n",
       "    .dataframe thead th {\n",
       "        text-align: right;\n",
       "    }\n",
       "</style>\n",
       "<table border=\"1\" class=\"dataframe\">\n",
       "  <thead>\n",
       "    <tr style=\"text-align: right;\">\n",
       "      <th></th>\n",
       "      <th>body.note.title</th>\n",
       "      <th>body.note.desc</th>\n",
       "    </tr>\n",
       "  </thead>\n",
       "  <tbody>\n",
       "    <tr>\n",
       "      <th>0</th>\n",
       "      <td>Tina Johnson</td>\n",
       "      <td>Top recognize eat. Fact whom spend area thing ...</td>\n",
       "    </tr>\n",
       "    <tr>\n",
       "      <th>1</th>\n",
       "      <td>Clayton Cooper</td>\n",
       "      <td>As possible American many prepare four strong....</td>\n",
       "    </tr>\n",
       "    <tr>\n",
       "      <th>2</th>\n",
       "      <td>Curtis Wolfe</td>\n",
       "      <td>Tuesday Notes or 2 like 2 XSP Class</td>\n",
       "    </tr>\n",
       "    <tr>\n",
       "      <th>3</th>\n",
       "      <td>Laura Fisher</td>\n",
       "      <td>State third represent energy campaign not forg...</td>\n",
       "    </tr>\n",
       "    <tr>\n",
       "      <th>4</th>\n",
       "      <td>Tyler Santos</td>\n",
       "      <td>Us enjoy since. Time identify image position o...</td>\n",
       "    </tr>\n",
       "  </tbody>\n",
       "</table>\n",
       "</div>"
      ],
      "text/plain": [
       "  body.note.title                                     body.note.desc\n",
       "0    Tina Johnson  Top recognize eat. Fact whom spend area thing ...\n",
       "1  Clayton Cooper  As possible American many prepare four strong....\n",
       "2    Curtis Wolfe                Tuesday Notes or 2 like 2 XSP Class\n",
       "3    Laura Fisher  State third represent energy campaign not forg...\n",
       "4    Tyler Santos  Us enjoy since. Time identify image position o..."
      ]
     },
     "execution_count": 14,
     "metadata": {},
     "output_type": "execute_result"
    }
   ],
   "source": [
    "data_req.head()"
   ]
  },
  {
   "cell_type": "markdown",
   "metadata": {},
   "source": [
    "# These are categorical data so we have to encode it. "
   ]
  },
  {
   "cell_type": "markdown",
   "metadata": {},
   "source": [
    "# --> These are nominal data(not in any order) so, we use OneHotEncoding"
   ]
  },
  {
   "cell_type": "code",
   "execution_count": 15,
   "metadata": {},
   "outputs": [],
   "source": [
    "import category_encoders as ce"
   ]
  },
  {
   "cell_type": "code",
   "execution_count": 16,
   "metadata": {},
   "outputs": [],
   "source": [
    "encode = ce.OneHotEncoder()"
   ]
  },
  {
   "cell_type": "code",
   "execution_count": 17,
   "metadata": {},
   "outputs": [],
   "source": [
    "data_encoded = encode.fit_transform(data_req)"
   ]
  },
  {
   "cell_type": "code",
   "execution_count": 18,
   "metadata": {},
   "outputs": [
    {
     "data": {
      "text/html": [
       "<div>\n",
       "<style scoped>\n",
       "    .dataframe tbody tr th:only-of-type {\n",
       "        vertical-align: middle;\n",
       "    }\n",
       "\n",
       "    .dataframe tbody tr th {\n",
       "        vertical-align: top;\n",
       "    }\n",
       "\n",
       "    .dataframe thead th {\n",
       "        text-align: right;\n",
       "    }\n",
       "</style>\n",
       "<table border=\"1\" class=\"dataframe\">\n",
       "  <thead>\n",
       "    <tr style=\"text-align: right;\">\n",
       "      <th></th>\n",
       "      <th>body.note.title_1</th>\n",
       "      <th>body.note.title_2</th>\n",
       "      <th>body.note.title_3</th>\n",
       "      <th>body.note.title_4</th>\n",
       "      <th>body.note.title_5</th>\n",
       "      <th>body.note.title_6</th>\n",
       "      <th>body.note.title_7</th>\n",
       "      <th>body.note.title_8</th>\n",
       "      <th>body.note.title_9</th>\n",
       "      <th>body.note.title_10</th>\n",
       "      <th>...</th>\n",
       "      <th>body.note.desc_741</th>\n",
       "      <th>body.note.desc_742</th>\n",
       "      <th>body.note.desc_743</th>\n",
       "      <th>body.note.desc_744</th>\n",
       "      <th>body.note.desc_745</th>\n",
       "      <th>body.note.desc_746</th>\n",
       "      <th>body.note.desc_747</th>\n",
       "      <th>body.note.desc_748</th>\n",
       "      <th>body.note.desc_749</th>\n",
       "      <th>body.note.desc_750</th>\n",
       "    </tr>\n",
       "  </thead>\n",
       "  <tbody>\n",
       "    <tr>\n",
       "      <th>0</th>\n",
       "      <td>1</td>\n",
       "      <td>0</td>\n",
       "      <td>0</td>\n",
       "      <td>0</td>\n",
       "      <td>0</td>\n",
       "      <td>0</td>\n",
       "      <td>0</td>\n",
       "      <td>0</td>\n",
       "      <td>0</td>\n",
       "      <td>0</td>\n",
       "      <td>...</td>\n",
       "      <td>0</td>\n",
       "      <td>0</td>\n",
       "      <td>0</td>\n",
       "      <td>0</td>\n",
       "      <td>0</td>\n",
       "      <td>0</td>\n",
       "      <td>0</td>\n",
       "      <td>0</td>\n",
       "      <td>0</td>\n",
       "      <td>0</td>\n",
       "    </tr>\n",
       "    <tr>\n",
       "      <th>1</th>\n",
       "      <td>0</td>\n",
       "      <td>1</td>\n",
       "      <td>0</td>\n",
       "      <td>0</td>\n",
       "      <td>0</td>\n",
       "      <td>0</td>\n",
       "      <td>0</td>\n",
       "      <td>0</td>\n",
       "      <td>0</td>\n",
       "      <td>0</td>\n",
       "      <td>...</td>\n",
       "      <td>0</td>\n",
       "      <td>0</td>\n",
       "      <td>0</td>\n",
       "      <td>0</td>\n",
       "      <td>0</td>\n",
       "      <td>0</td>\n",
       "      <td>0</td>\n",
       "      <td>0</td>\n",
       "      <td>0</td>\n",
       "      <td>0</td>\n",
       "    </tr>\n",
       "    <tr>\n",
       "      <th>2</th>\n",
       "      <td>0</td>\n",
       "      <td>0</td>\n",
       "      <td>1</td>\n",
       "      <td>0</td>\n",
       "      <td>0</td>\n",
       "      <td>0</td>\n",
       "      <td>0</td>\n",
       "      <td>0</td>\n",
       "      <td>0</td>\n",
       "      <td>0</td>\n",
       "      <td>...</td>\n",
       "      <td>0</td>\n",
       "      <td>0</td>\n",
       "      <td>0</td>\n",
       "      <td>0</td>\n",
       "      <td>0</td>\n",
       "      <td>0</td>\n",
       "      <td>0</td>\n",
       "      <td>0</td>\n",
       "      <td>0</td>\n",
       "      <td>0</td>\n",
       "    </tr>\n",
       "    <tr>\n",
       "      <th>3</th>\n",
       "      <td>0</td>\n",
       "      <td>0</td>\n",
       "      <td>0</td>\n",
       "      <td>1</td>\n",
       "      <td>0</td>\n",
       "      <td>0</td>\n",
       "      <td>0</td>\n",
       "      <td>0</td>\n",
       "      <td>0</td>\n",
       "      <td>0</td>\n",
       "      <td>...</td>\n",
       "      <td>0</td>\n",
       "      <td>0</td>\n",
       "      <td>0</td>\n",
       "      <td>0</td>\n",
       "      <td>0</td>\n",
       "      <td>0</td>\n",
       "      <td>0</td>\n",
       "      <td>0</td>\n",
       "      <td>0</td>\n",
       "      <td>0</td>\n",
       "    </tr>\n",
       "    <tr>\n",
       "      <th>4</th>\n",
       "      <td>0</td>\n",
       "      <td>0</td>\n",
       "      <td>0</td>\n",
       "      <td>0</td>\n",
       "      <td>1</td>\n",
       "      <td>0</td>\n",
       "      <td>0</td>\n",
       "      <td>0</td>\n",
       "      <td>0</td>\n",
       "      <td>0</td>\n",
       "      <td>...</td>\n",
       "      <td>0</td>\n",
       "      <td>0</td>\n",
       "      <td>0</td>\n",
       "      <td>0</td>\n",
       "      <td>0</td>\n",
       "      <td>0</td>\n",
       "      <td>0</td>\n",
       "      <td>0</td>\n",
       "      <td>0</td>\n",
       "      <td>0</td>\n",
       "    </tr>\n",
       "  </tbody>\n",
       "</table>\n",
       "<p>5 rows × 1744 columns</p>\n",
       "</div>"
      ],
      "text/plain": [
       "   body.note.title_1  body.note.title_2  body.note.title_3  body.note.title_4  \\\n",
       "0                  1                  0                  0                  0   \n",
       "1                  0                  1                  0                  0   \n",
       "2                  0                  0                  1                  0   \n",
       "3                  0                  0                  0                  1   \n",
       "4                  0                  0                  0                  0   \n",
       "\n",
       "   body.note.title_5  body.note.title_6  body.note.title_7  body.note.title_8  \\\n",
       "0                  0                  0                  0                  0   \n",
       "1                  0                  0                  0                  0   \n",
       "2                  0                  0                  0                  0   \n",
       "3                  0                  0                  0                  0   \n",
       "4                  1                  0                  0                  0   \n",
       "\n",
       "   body.note.title_9  body.note.title_10  ...  body.note.desc_741  \\\n",
       "0                  0                   0  ...                   0   \n",
       "1                  0                   0  ...                   0   \n",
       "2                  0                   0  ...                   0   \n",
       "3                  0                   0  ...                   0   \n",
       "4                  0                   0  ...                   0   \n",
       "\n",
       "   body.note.desc_742  body.note.desc_743  body.note.desc_744  \\\n",
       "0                   0                   0                   0   \n",
       "1                   0                   0                   0   \n",
       "2                   0                   0                   0   \n",
       "3                   0                   0                   0   \n",
       "4                   0                   0                   0   \n",
       "\n",
       "   body.note.desc_745  body.note.desc_746  body.note.desc_747  \\\n",
       "0                   0                   0                   0   \n",
       "1                   0                   0                   0   \n",
       "2                   0                   0                   0   \n",
       "3                   0                   0                   0   \n",
       "4                   0                   0                   0   \n",
       "\n",
       "   body.note.desc_748  body.note.desc_749  body.note.desc_750  \n",
       "0                   0                   0                   0  \n",
       "1                   0                   0                   0  \n",
       "2                   0                   0                   0  \n",
       "3                   0                   0                   0  \n",
       "4                   0                   0                   0  \n",
       "\n",
       "[5 rows x 1744 columns]"
      ]
     },
     "execution_count": 18,
     "metadata": {},
     "output_type": "execute_result"
    }
   ],
   "source": [
    "data_encoded.head()"
   ]
  },
  {
   "cell_type": "code",
   "execution_count": 19,
   "metadata": {},
   "outputs": [
    {
     "data": {
      "text/plain": [
       "(1000, 1744)"
      ]
     },
     "execution_count": 19,
     "metadata": {},
     "output_type": "execute_result"
    }
   ],
   "source": [
    "data_encoded.shape"
   ]
  },
  {
   "cell_type": "code",
   "execution_count": 20,
   "metadata": {},
   "outputs": [],
   "source": [
    "x_train = data_encoded"
   ]
  },
  {
   "cell_type": "markdown",
   "metadata": {},
   "source": [
    "# Now encode the Target feature"
   ]
  },
  {
   "cell_type": "code",
   "execution_count": 21,
   "metadata": {},
   "outputs": [],
   "source": [
    "target = data['isSafe'].copy()"
   ]
  },
  {
   "cell_type": "code",
   "execution_count": 22,
   "metadata": {},
   "outputs": [
    {
     "data": {
      "text/plain": [
       "True     572\n",
       "False    428\n",
       "Name: isSafe, dtype: int64"
      ]
     },
     "execution_count": 22,
     "metadata": {},
     "output_type": "execute_result"
    }
   ],
   "source": [
    "target.value_counts()"
   ]
  },
  {
   "cell_type": "markdown",
   "metadata": {},
   "source": [
    "# For this we can use basic encoding technique - LabelEncoding OR\n",
    "# we can just put 1 / 0 for True / False"
   ]
  },
  {
   "cell_type": "code",
   "execution_count": 23,
   "metadata": {},
   "outputs": [],
   "source": [
    "x = len(target)"
   ]
  },
  {
   "cell_type": "code",
   "execution_count": 24,
   "metadata": {},
   "outputs": [
    {
     "data": {
      "text/plain": [
       "True"
      ]
     },
     "execution_count": 24,
     "metadata": {},
     "output_type": "execute_result"
    }
   ],
   "source": [
    "target[111]"
   ]
  },
  {
   "cell_type": "code",
   "execution_count": 25,
   "metadata": {},
   "outputs": [],
   "source": [
    "encoder= ce.OrdinalEncoder()"
   ]
  },
  {
   "cell_type": "code",
   "execution_count": 26,
   "metadata": {},
   "outputs": [],
   "source": [
    "transformed_target = encoder.fit_transform(target)"
   ]
  },
  {
   "cell_type": "code",
   "execution_count": 27,
   "metadata": {},
   "outputs": [
    {
     "name": "stdout",
     "output_type": "stream",
     "text": [
      "     isSafe\n",
      "0      True\n",
      "1      True\n",
      "2     False\n",
      "3      True\n",
      "4     False\n",
      "..      ...\n",
      "995    True\n",
      "996   False\n",
      "997    True\n",
      "998    True\n",
      "999    True\n",
      "\n",
      "[1000 rows x 1 columns]\n"
     ]
    }
   ],
   "source": [
    "print(transformed_target)"
   ]
  },
  {
   "cell_type": "code",
   "execution_count": 28,
   "metadata": {},
   "outputs": [],
   "source": [
    "transformed_target['isSafe'] = transformed_target['isSafe'].apply(lambda x: 1 if x==True else 0)"
   ]
  },
  {
   "cell_type": "code",
   "execution_count": 29,
   "metadata": {},
   "outputs": [
    {
     "data": {
      "text/html": [
       "<div>\n",
       "<style scoped>\n",
       "    .dataframe tbody tr th:only-of-type {\n",
       "        vertical-align: middle;\n",
       "    }\n",
       "\n",
       "    .dataframe tbody tr th {\n",
       "        vertical-align: top;\n",
       "    }\n",
       "\n",
       "    .dataframe thead th {\n",
       "        text-align: right;\n",
       "    }\n",
       "</style>\n",
       "<table border=\"1\" class=\"dataframe\">\n",
       "  <thead>\n",
       "    <tr style=\"text-align: right;\">\n",
       "      <th></th>\n",
       "      <th>isSafe</th>\n",
       "    </tr>\n",
       "  </thead>\n",
       "  <tbody>\n",
       "    <tr>\n",
       "      <th>0</th>\n",
       "      <td>1</td>\n",
       "    </tr>\n",
       "    <tr>\n",
       "      <th>1</th>\n",
       "      <td>1</td>\n",
       "    </tr>\n",
       "    <tr>\n",
       "      <th>2</th>\n",
       "      <td>0</td>\n",
       "    </tr>\n",
       "    <tr>\n",
       "      <th>3</th>\n",
       "      <td>1</td>\n",
       "    </tr>\n",
       "    <tr>\n",
       "      <th>4</th>\n",
       "      <td>0</td>\n",
       "    </tr>\n",
       "    <tr>\n",
       "      <th>...</th>\n",
       "      <td>...</td>\n",
       "    </tr>\n",
       "    <tr>\n",
       "      <th>995</th>\n",
       "      <td>1</td>\n",
       "    </tr>\n",
       "    <tr>\n",
       "      <th>996</th>\n",
       "      <td>0</td>\n",
       "    </tr>\n",
       "    <tr>\n",
       "      <th>997</th>\n",
       "      <td>1</td>\n",
       "    </tr>\n",
       "    <tr>\n",
       "      <th>998</th>\n",
       "      <td>1</td>\n",
       "    </tr>\n",
       "    <tr>\n",
       "      <th>999</th>\n",
       "      <td>1</td>\n",
       "    </tr>\n",
       "  </tbody>\n",
       "</table>\n",
       "<p>1000 rows × 1 columns</p>\n",
       "</div>"
      ],
      "text/plain": [
       "     isSafe\n",
       "0         1\n",
       "1         1\n",
       "2         0\n",
       "3         1\n",
       "4         0\n",
       "..      ...\n",
       "995       1\n",
       "996       0\n",
       "997       1\n",
       "998       1\n",
       "999       1\n",
       "\n",
       "[1000 rows x 1 columns]"
      ]
     },
     "execution_count": 29,
     "metadata": {},
     "output_type": "execute_result"
    }
   ],
   "source": [
    "transformed_target"
   ]
  },
  {
   "cell_type": "code",
   "execution_count": 30,
   "metadata": {},
   "outputs": [],
   "source": [
    "from sklearn.model_selection import train_test_split\n",
    "from sklearn.metrics import accuracy_score"
   ]
  },
  {
   "cell_type": "markdown",
   "metadata": {},
   "source": [
    "# Applying Gaussian naive Bayes since there are less data points"
   ]
  },
  {
   "cell_type": "code",
   "execution_count": 31,
   "metadata": {},
   "outputs": [],
   "source": [
    "from sklearn.naive_bayes import GaussianNB"
   ]
  },
  {
   "cell_type": "code",
   "execution_count": 32,
   "metadata": {},
   "outputs": [],
   "source": [
    "x_train,x_test,y_train,y_test = train_test_split(x_train,transformed_target,test_size = 0.20,random_state = 42)"
   ]
  },
  {
   "cell_type": "code",
   "execution_count": 33,
   "metadata": {},
   "outputs": [],
   "source": [
    "model = GaussianNB()"
   ]
  },
  {
   "cell_type": "code",
   "execution_count": 34,
   "metadata": {},
   "outputs": [
    {
     "name": "stderr",
     "output_type": "stream",
     "text": [
      "C:\\ProgramData\\Anaconda3\\lib\\site-packages\\sklearn\\utils\\validation.py:73: DataConversionWarning: A column-vector y was passed when a 1d array was expected. Please change the shape of y to (n_samples, ), for example using ravel().\n",
      "  return f(**kwargs)\n"
     ]
    },
    {
     "data": {
      "text/plain": [
       "GaussianNB()"
      ]
     },
     "execution_count": 34,
     "metadata": {},
     "output_type": "execute_result"
    }
   ],
   "source": [
    "model.fit(x_train,y_train)"
   ]
  },
  {
   "cell_type": "code",
   "execution_count": 35,
   "metadata": {},
   "outputs": [],
   "source": [
    "y_pred = model.predict(x_test)"
   ]
  },
  {
   "cell_type": "code",
   "execution_count": 36,
   "metadata": {},
   "outputs": [
    {
     "name": "stdout",
     "output_type": "stream",
     "text": [
      "41.5 %\n"
     ]
    }
   ],
   "source": [
    "print(accuracy_score(y_pred,y_test)*100,end = \"\")\n",
    "print(' %')"
   ]
  },
  {
   "cell_type": "markdown",
   "metadata": {},
   "source": [
    "# Trying Multinomial Naive Bayes"
   ]
  },
  {
   "cell_type": "code",
   "execution_count": 37,
   "metadata": {},
   "outputs": [],
   "source": [
    "from sklearn.naive_bayes import MultinomialNB"
   ]
  },
  {
   "cell_type": "code",
   "execution_count": 38,
   "metadata": {},
   "outputs": [],
   "source": [
    "model = MultinomialNB()"
   ]
  },
  {
   "cell_type": "code",
   "execution_count": 39,
   "metadata": {},
   "outputs": [
    {
     "name": "stderr",
     "output_type": "stream",
     "text": [
      "C:\\ProgramData\\Anaconda3\\lib\\site-packages\\sklearn\\utils\\validation.py:73: DataConversionWarning: A column-vector y was passed when a 1d array was expected. Please change the shape of y to (n_samples, ), for example using ravel().\n",
      "  return f(**kwargs)\n"
     ]
    },
    {
     "data": {
      "text/plain": [
       "MultinomialNB()"
      ]
     },
     "execution_count": 39,
     "metadata": {},
     "output_type": "execute_result"
    }
   ],
   "source": [
    "model.fit(x_train,y_train)"
   ]
  },
  {
   "cell_type": "code",
   "execution_count": 40,
   "metadata": {},
   "outputs": [],
   "source": [
    "y_pred = model.predict(x_test)"
   ]
  },
  {
   "cell_type": "code",
   "execution_count": 41,
   "metadata": {},
   "outputs": [
    {
     "name": "stdout",
     "output_type": "stream",
     "text": [
      "83.0 %\n"
     ]
    }
   ],
   "source": [
    "print(accuracy_score(y_pred,y_test)*100,end = \"\")\n",
    "print(' %')"
   ]
  },
  {
   "cell_type": "markdown",
   "metadata": {},
   "source": [
    "# Trying KNN"
   ]
  },
  {
   "cell_type": "code",
   "execution_count": 42,
   "metadata": {},
   "outputs": [],
   "source": [
    "from sklearn.neighbors import KNeighborsClassifier"
   ]
  },
  {
   "cell_type": "code",
   "execution_count": 43,
   "metadata": {},
   "outputs": [],
   "source": [
    "model = KNeighborsClassifier(n_neighbors=3)"
   ]
  },
  {
   "cell_type": "code",
   "execution_count": 44,
   "metadata": {},
   "outputs": [
    {
     "name": "stderr",
     "output_type": "stream",
     "text": [
      "<ipython-input-44-4719cf73997a>:1: DataConversionWarning: A column-vector y was passed when a 1d array was expected. Please change the shape of y to (n_samples, ), for example using ravel().\n",
      "  model.fit(x_train,y_train)\n"
     ]
    },
    {
     "data": {
      "text/plain": [
       "KNeighborsClassifier(n_neighbors=3)"
      ]
     },
     "execution_count": 44,
     "metadata": {},
     "output_type": "execute_result"
    }
   ],
   "source": [
    "model.fit(x_train,y_train)"
   ]
  },
  {
   "cell_type": "code",
   "execution_count": 45,
   "metadata": {},
   "outputs": [],
   "source": [
    "y_pred = model.predict(x_test)"
   ]
  },
  {
   "cell_type": "code",
   "execution_count": 46,
   "metadata": {},
   "outputs": [
    {
     "name": "stdout",
     "output_type": "stream",
     "text": [
      "83.0 %\n"
     ]
    }
   ],
   "source": [
    "print(accuracy_score(y_pred,y_test)*100,end = \"\")\n",
    "print(' %')"
   ]
  },
  {
   "cell_type": "markdown",
   "metadata": {},
   "source": [
    "# After applying above models/Algorithms we can conclude that ,\n",
    "# Naive Bayes and KNN has shown good ACCURACY"
   ]
  },
  {
   "cell_type": "markdown",
   "metadata": {},
   "source": [
    "## -->There are many ways to Check the trueness of model / Algorithm\n",
    "### ---> Let's check by CrossValidation,precision,recall."
   ]
  },
  {
   "cell_type": "code",
   "execution_count": 47,
   "metadata": {},
   "outputs": [],
   "source": [
    "from sklearn.model_selection import GridSearchCV"
   ]
  },
  {
   "cell_type": "code",
   "execution_count": 51,
   "metadata": {},
   "outputs": [
    {
     "name": "stdout",
     "output_type": "stream",
     "text": [
      "# Tuning hyper-parameters for recall\n",
      "\n"
     ]
    },
    {
     "name": "stderr",
     "output_type": "stream",
     "text": [
      "C:\\ProgramData\\Anaconda3\\lib\\site-packages\\sklearn\\model_selection\\_validation.py:531: DataConversionWarning: A column-vector y was passed when a 1d array was expected. Please change the shape of y to (n_samples, ), for example using ravel().\n",
      "  estimator.fit(X_train, y_train, **fit_params)\n",
      "C:\\ProgramData\\Anaconda3\\lib\\site-packages\\sklearn\\model_selection\\_validation.py:531: DataConversionWarning: A column-vector y was passed when a 1d array was expected. Please change the shape of y to (n_samples, ), for example using ravel().\n",
      "  estimator.fit(X_train, y_train, **fit_params)\n",
      "C:\\ProgramData\\Anaconda3\\lib\\site-packages\\sklearn\\model_selection\\_validation.py:531: DataConversionWarning: A column-vector y was passed when a 1d array was expected. Please change the shape of y to (n_samples, ), for example using ravel().\n",
      "  estimator.fit(X_train, y_train, **fit_params)\n",
      "C:\\ProgramData\\Anaconda3\\lib\\site-packages\\sklearn\\model_selection\\_validation.py:531: DataConversionWarning: A column-vector y was passed when a 1d array was expected. Please change the shape of y to (n_samples, ), for example using ravel().\n",
      "  estimator.fit(X_train, y_train, **fit_params)\n",
      "C:\\ProgramData\\Anaconda3\\lib\\site-packages\\sklearn\\model_selection\\_validation.py:531: DataConversionWarning: A column-vector y was passed when a 1d array was expected. Please change the shape of y to (n_samples, ), for example using ravel().\n",
      "  estimator.fit(X_train, y_train, **fit_params)\n",
      "C:\\ProgramData\\Anaconda3\\lib\\site-packages\\sklearn\\model_selection\\_validation.py:531: DataConversionWarning: A column-vector y was passed when a 1d array was expected. Please change the shape of y to (n_samples, ), for example using ravel().\n",
      "  estimator.fit(X_train, y_train, **fit_params)\n",
      "C:\\ProgramData\\Anaconda3\\lib\\site-packages\\sklearn\\model_selection\\_validation.py:531: DataConversionWarning: A column-vector y was passed when a 1d array was expected. Please change the shape of y to (n_samples, ), for example using ravel().\n",
      "  estimator.fit(X_train, y_train, **fit_params)\n",
      "C:\\ProgramData\\Anaconda3\\lib\\site-packages\\sklearn\\model_selection\\_validation.py:531: DataConversionWarning: A column-vector y was passed when a 1d array was expected. Please change the shape of y to (n_samples, ), for example using ravel().\n",
      "  estimator.fit(X_train, y_train, **fit_params)\n",
      "C:\\ProgramData\\Anaconda3\\lib\\site-packages\\sklearn\\model_selection\\_validation.py:531: DataConversionWarning: A column-vector y was passed when a 1d array was expected. Please change the shape of y to (n_samples, ), for example using ravel().\n",
      "  estimator.fit(X_train, y_train, **fit_params)\n",
      "C:\\ProgramData\\Anaconda3\\lib\\site-packages\\sklearn\\model_selection\\_validation.py:531: DataConversionWarning: A column-vector y was passed when a 1d array was expected. Please change the shape of y to (n_samples, ), for example using ravel().\n",
      "  estimator.fit(X_train, y_train, **fit_params)\n",
      "C:\\ProgramData\\Anaconda3\\lib\\site-packages\\sklearn\\model_selection\\_validation.py:531: DataConversionWarning: A column-vector y was passed when a 1d array was expected. Please change the shape of y to (n_samples, ), for example using ravel().\n",
      "  estimator.fit(X_train, y_train, **fit_params)\n",
      "C:\\ProgramData\\Anaconda3\\lib\\site-packages\\sklearn\\model_selection\\_validation.py:531: DataConversionWarning: A column-vector y was passed when a 1d array was expected. Please change the shape of y to (n_samples, ), for example using ravel().\n",
      "  estimator.fit(X_train, y_train, **fit_params)\n",
      "C:\\ProgramData\\Anaconda3\\lib\\site-packages\\sklearn\\model_selection\\_validation.py:531: DataConversionWarning: A column-vector y was passed when a 1d array was expected. Please change the shape of y to (n_samples, ), for example using ravel().\n",
      "  estimator.fit(X_train, y_train, **fit_params)\n",
      "C:\\ProgramData\\Anaconda3\\lib\\site-packages\\sklearn\\model_selection\\_validation.py:531: DataConversionWarning: A column-vector y was passed when a 1d array was expected. Please change the shape of y to (n_samples, ), for example using ravel().\n",
      "  estimator.fit(X_train, y_train, **fit_params)\n",
      "C:\\ProgramData\\Anaconda3\\lib\\site-packages\\sklearn\\model_selection\\_validation.py:531: DataConversionWarning: A column-vector y was passed when a 1d array was expected. Please change the shape of y to (n_samples, ), for example using ravel().\n",
      "  estimator.fit(X_train, y_train, **fit_params)\n",
      "C:\\ProgramData\\Anaconda3\\lib\\site-packages\\sklearn\\model_selection\\_validation.py:531: DataConversionWarning: A column-vector y was passed when a 1d array was expected. Please change the shape of y to (n_samples, ), for example using ravel().\n",
      "  estimator.fit(X_train, y_train, **fit_params)\n",
      "C:\\ProgramData\\Anaconda3\\lib\\site-packages\\sklearn\\model_selection\\_validation.py:531: DataConversionWarning: A column-vector y was passed when a 1d array was expected. Please change the shape of y to (n_samples, ), for example using ravel().\n",
      "  estimator.fit(X_train, y_train, **fit_params)\n",
      "C:\\ProgramData\\Anaconda3\\lib\\site-packages\\sklearn\\model_selection\\_validation.py:531: DataConversionWarning: A column-vector y was passed when a 1d array was expected. Please change the shape of y to (n_samples, ), for example using ravel().\n",
      "  estimator.fit(X_train, y_train, **fit_params)\n",
      "C:\\ProgramData\\Anaconda3\\lib\\site-packages\\sklearn\\model_selection\\_validation.py:531: DataConversionWarning: A column-vector y was passed when a 1d array was expected. Please change the shape of y to (n_samples, ), for example using ravel().\n",
      "  estimator.fit(X_train, y_train, **fit_params)\n",
      "C:\\ProgramData\\Anaconda3\\lib\\site-packages\\sklearn\\model_selection\\_validation.py:531: DataConversionWarning: A column-vector y was passed when a 1d array was expected. Please change the shape of y to (n_samples, ), for example using ravel().\n",
      "  estimator.fit(X_train, y_train, **fit_params)\n",
      "C:\\ProgramData\\Anaconda3\\lib\\site-packages\\sklearn\\model_selection\\_validation.py:531: DataConversionWarning: A column-vector y was passed when a 1d array was expected. Please change the shape of y to (n_samples, ), for example using ravel().\n",
      "  estimator.fit(X_train, y_train, **fit_params)\n",
      "C:\\ProgramData\\Anaconda3\\lib\\site-packages\\sklearn\\model_selection\\_validation.py:531: DataConversionWarning: A column-vector y was passed when a 1d array was expected. Please change the shape of y to (n_samples, ), for example using ravel().\n",
      "  estimator.fit(X_train, y_train, **fit_params)\n",
      "C:\\ProgramData\\Anaconda3\\lib\\site-packages\\sklearn\\model_selection\\_validation.py:531: DataConversionWarning: A column-vector y was passed when a 1d array was expected. Please change the shape of y to (n_samples, ), for example using ravel().\n",
      "  estimator.fit(X_train, y_train, **fit_params)\n",
      "C:\\ProgramData\\Anaconda3\\lib\\site-packages\\sklearn\\model_selection\\_validation.py:531: DataConversionWarning: A column-vector y was passed when a 1d array was expected. Please change the shape of y to (n_samples, ), for example using ravel().\n",
      "  estimator.fit(X_train, y_train, **fit_params)\n",
      "C:\\ProgramData\\Anaconda3\\lib\\site-packages\\sklearn\\model_selection\\_validation.py:531: DataConversionWarning: A column-vector y was passed when a 1d array was expected. Please change the shape of y to (n_samples, ), for example using ravel().\n",
      "  estimator.fit(X_train, y_train, **fit_params)\n",
      "C:\\ProgramData\\Anaconda3\\lib\\site-packages\\sklearn\\model_selection\\_validation.py:531: DataConversionWarning: A column-vector y was passed when a 1d array was expected. Please change the shape of y to (n_samples, ), for example using ravel().\n",
      "  estimator.fit(X_train, y_train, **fit_params)\n",
      "C:\\ProgramData\\Anaconda3\\lib\\site-packages\\sklearn\\model_selection\\_validation.py:531: DataConversionWarning: A column-vector y was passed when a 1d array was expected. Please change the shape of y to (n_samples, ), for example using ravel().\n",
      "  estimator.fit(X_train, y_train, **fit_params)\n",
      "C:\\ProgramData\\Anaconda3\\lib\\site-packages\\sklearn\\model_selection\\_validation.py:531: DataConversionWarning: A column-vector y was passed when a 1d array was expected. Please change the shape of y to (n_samples, ), for example using ravel().\n",
      "  estimator.fit(X_train, y_train, **fit_params)\n",
      "C:\\ProgramData\\Anaconda3\\lib\\site-packages\\sklearn\\model_selection\\_validation.py:531: DataConversionWarning: A column-vector y was passed when a 1d array was expected. Please change the shape of y to (n_samples, ), for example using ravel().\n",
      "  estimator.fit(X_train, y_train, **fit_params)\n"
     ]
    },
    {
     "name": "stderr",
     "output_type": "stream",
     "text": [
      "C:\\ProgramData\\Anaconda3\\lib\\site-packages\\sklearn\\model_selection\\_validation.py:531: DataConversionWarning: A column-vector y was passed when a 1d array was expected. Please change the shape of y to (n_samples, ), for example using ravel().\n",
      "  estimator.fit(X_train, y_train, **fit_params)\n",
      "C:\\ProgramData\\Anaconda3\\lib\\site-packages\\sklearn\\model_selection\\_validation.py:531: DataConversionWarning: A column-vector y was passed when a 1d array was expected. Please change the shape of y to (n_samples, ), for example using ravel().\n",
      "  estimator.fit(X_train, y_train, **fit_params)\n",
      "C:\\ProgramData\\Anaconda3\\lib\\site-packages\\sklearn\\model_selection\\_validation.py:531: DataConversionWarning: A column-vector y was passed when a 1d array was expected. Please change the shape of y to (n_samples, ), for example using ravel().\n",
      "  estimator.fit(X_train, y_train, **fit_params)\n",
      "C:\\ProgramData\\Anaconda3\\lib\\site-packages\\sklearn\\model_selection\\_validation.py:531: DataConversionWarning: A column-vector y was passed when a 1d array was expected. Please change the shape of y to (n_samples, ), for example using ravel().\n",
      "  estimator.fit(X_train, y_train, **fit_params)\n",
      "C:\\ProgramData\\Anaconda3\\lib\\site-packages\\sklearn\\model_selection\\_validation.py:531: DataConversionWarning: A column-vector y was passed when a 1d array was expected. Please change the shape of y to (n_samples, ), for example using ravel().\n",
      "  estimator.fit(X_train, y_train, **fit_params)\n",
      "C:\\ProgramData\\Anaconda3\\lib\\site-packages\\sklearn\\model_selection\\_validation.py:531: DataConversionWarning: A column-vector y was passed when a 1d array was expected. Please change the shape of y to (n_samples, ), for example using ravel().\n",
      "  estimator.fit(X_train, y_train, **fit_params)\n",
      "C:\\ProgramData\\Anaconda3\\lib\\site-packages\\sklearn\\model_selection\\_validation.py:531: DataConversionWarning: A column-vector y was passed when a 1d array was expected. Please change the shape of y to (n_samples, ), for example using ravel().\n",
      "  estimator.fit(X_train, y_train, **fit_params)\n",
      "C:\\ProgramData\\Anaconda3\\lib\\site-packages\\sklearn\\model_selection\\_validation.py:531: DataConversionWarning: A column-vector y was passed when a 1d array was expected. Please change the shape of y to (n_samples, ), for example using ravel().\n",
      "  estimator.fit(X_train, y_train, **fit_params)\n",
      "C:\\ProgramData\\Anaconda3\\lib\\site-packages\\sklearn\\model_selection\\_validation.py:531: DataConversionWarning: A column-vector y was passed when a 1d array was expected. Please change the shape of y to (n_samples, ), for example using ravel().\n",
      "  estimator.fit(X_train, y_train, **fit_params)\n",
      "C:\\ProgramData\\Anaconda3\\lib\\site-packages\\sklearn\\model_selection\\_validation.py:531: DataConversionWarning: A column-vector y was passed when a 1d array was expected. Please change the shape of y to (n_samples, ), for example using ravel().\n",
      "  estimator.fit(X_train, y_train, **fit_params)\n",
      "C:\\ProgramData\\Anaconda3\\lib\\site-packages\\sklearn\\model_selection\\_validation.py:531: DataConversionWarning: A column-vector y was passed when a 1d array was expected. Please change the shape of y to (n_samples, ), for example using ravel().\n",
      "  estimator.fit(X_train, y_train, **fit_params)\n",
      "C:\\ProgramData\\Anaconda3\\lib\\site-packages\\sklearn\\model_selection\\_validation.py:531: DataConversionWarning: A column-vector y was passed when a 1d array was expected. Please change the shape of y to (n_samples, ), for example using ravel().\n",
      "  estimator.fit(X_train, y_train, **fit_params)\n",
      "C:\\ProgramData\\Anaconda3\\lib\\site-packages\\sklearn\\model_selection\\_validation.py:531: DataConversionWarning: A column-vector y was passed when a 1d array was expected. Please change the shape of y to (n_samples, ), for example using ravel().\n",
      "  estimator.fit(X_train, y_train, **fit_params)\n",
      "C:\\ProgramData\\Anaconda3\\lib\\site-packages\\sklearn\\model_selection\\_validation.py:531: DataConversionWarning: A column-vector y was passed when a 1d array was expected. Please change the shape of y to (n_samples, ), for example using ravel().\n",
      "  estimator.fit(X_train, y_train, **fit_params)\n",
      "C:\\ProgramData\\Anaconda3\\lib\\site-packages\\sklearn\\model_selection\\_validation.py:531: DataConversionWarning: A column-vector y was passed when a 1d array was expected. Please change the shape of y to (n_samples, ), for example using ravel().\n",
      "  estimator.fit(X_train, y_train, **fit_params)\n",
      "C:\\ProgramData\\Anaconda3\\lib\\site-packages\\sklearn\\model_selection\\_validation.py:531: DataConversionWarning: A column-vector y was passed when a 1d array was expected. Please change the shape of y to (n_samples, ), for example using ravel().\n",
      "  estimator.fit(X_train, y_train, **fit_params)\n",
      "C:\\ProgramData\\Anaconda3\\lib\\site-packages\\sklearn\\model_selection\\_validation.py:531: DataConversionWarning: A column-vector y was passed when a 1d array was expected. Please change the shape of y to (n_samples, ), for example using ravel().\n",
      "  estimator.fit(X_train, y_train, **fit_params)\n",
      "C:\\ProgramData\\Anaconda3\\lib\\site-packages\\sklearn\\model_selection\\_validation.py:531: DataConversionWarning: A column-vector y was passed when a 1d array was expected. Please change the shape of y to (n_samples, ), for example using ravel().\n",
      "  estimator.fit(X_train, y_train, **fit_params)\n",
      "C:\\ProgramData\\Anaconda3\\lib\\site-packages\\sklearn\\model_selection\\_validation.py:531: DataConversionWarning: A column-vector y was passed when a 1d array was expected. Please change the shape of y to (n_samples, ), for example using ravel().\n",
      "  estimator.fit(X_train, y_train, **fit_params)\n",
      "C:\\ProgramData\\Anaconda3\\lib\\site-packages\\sklearn\\model_selection\\_validation.py:531: DataConversionWarning: A column-vector y was passed when a 1d array was expected. Please change the shape of y to (n_samples, ), for example using ravel().\n",
      "  estimator.fit(X_train, y_train, **fit_params)\n",
      "C:\\ProgramData\\Anaconda3\\lib\\site-packages\\sklearn\\model_selection\\_validation.py:531: DataConversionWarning: A column-vector y was passed when a 1d array was expected. Please change the shape of y to (n_samples, ), for example using ravel().\n",
      "  estimator.fit(X_train, y_train, **fit_params)\n",
      "C:\\ProgramData\\Anaconda3\\lib\\site-packages\\sklearn\\model_selection\\_validation.py:531: DataConversionWarning: A column-vector y was passed when a 1d array was expected. Please change the shape of y to (n_samples, ), for example using ravel().\n",
      "  estimator.fit(X_train, y_train, **fit_params)\n",
      "C:\\ProgramData\\Anaconda3\\lib\\site-packages\\sklearn\\model_selection\\_validation.py:531: DataConversionWarning: A column-vector y was passed when a 1d array was expected. Please change the shape of y to (n_samples, ), for example using ravel().\n",
      "  estimator.fit(X_train, y_train, **fit_params)\n",
      "C:\\ProgramData\\Anaconda3\\lib\\site-packages\\sklearn\\model_selection\\_validation.py:531: DataConversionWarning: A column-vector y was passed when a 1d array was expected. Please change the shape of y to (n_samples, ), for example using ravel().\n",
      "  estimator.fit(X_train, y_train, **fit_params)\n",
      "C:\\ProgramData\\Anaconda3\\lib\\site-packages\\sklearn\\model_selection\\_validation.py:531: DataConversionWarning: A column-vector y was passed when a 1d array was expected. Please change the shape of y to (n_samples, ), for example using ravel().\n",
      "  estimator.fit(X_train, y_train, **fit_params)\n",
      "C:\\ProgramData\\Anaconda3\\lib\\site-packages\\sklearn\\model_selection\\_validation.py:531: DataConversionWarning: A column-vector y was passed when a 1d array was expected. Please change the shape of y to (n_samples, ), for example using ravel().\n",
      "  estimator.fit(X_train, y_train, **fit_params)\n",
      "C:\\ProgramData\\Anaconda3\\lib\\site-packages\\sklearn\\model_selection\\_validation.py:531: DataConversionWarning: A column-vector y was passed when a 1d array was expected. Please change the shape of y to (n_samples, ), for example using ravel().\n",
      "  estimator.fit(X_train, y_train, **fit_params)\n",
      "C:\\ProgramData\\Anaconda3\\lib\\site-packages\\sklearn\\model_selection\\_validation.py:531: DataConversionWarning: A column-vector y was passed when a 1d array was expected. Please change the shape of y to (n_samples, ), for example using ravel().\n",
      "  estimator.fit(X_train, y_train, **fit_params)\n",
      "C:\\ProgramData\\Anaconda3\\lib\\site-packages\\sklearn\\model_selection\\_validation.py:531: DataConversionWarning: A column-vector y was passed when a 1d array was expected. Please change the shape of y to (n_samples, ), for example using ravel().\n",
      "  estimator.fit(X_train, y_train, **fit_params)\n"
     ]
    },
    {
     "name": "stderr",
     "output_type": "stream",
     "text": [
      "C:\\ProgramData\\Anaconda3\\lib\\site-packages\\sklearn\\model_selection\\_validation.py:531: DataConversionWarning: A column-vector y was passed when a 1d array was expected. Please change the shape of y to (n_samples, ), for example using ravel().\n",
      "  estimator.fit(X_train, y_train, **fit_params)\n",
      "C:\\ProgramData\\Anaconda3\\lib\\site-packages\\sklearn\\model_selection\\_validation.py:531: DataConversionWarning: A column-vector y was passed when a 1d array was expected. Please change the shape of y to (n_samples, ), for example using ravel().\n",
      "  estimator.fit(X_train, y_train, **fit_params)\n",
      "C:\\ProgramData\\Anaconda3\\lib\\site-packages\\sklearn\\model_selection\\_validation.py:531: DataConversionWarning: A column-vector y was passed when a 1d array was expected. Please change the shape of y to (n_samples, ), for example using ravel().\n",
      "  estimator.fit(X_train, y_train, **fit_params)\n",
      "C:\\ProgramData\\Anaconda3\\lib\\site-packages\\sklearn\\model_selection\\_validation.py:531: DataConversionWarning: A column-vector y was passed when a 1d array was expected. Please change the shape of y to (n_samples, ), for example using ravel().\n",
      "  estimator.fit(X_train, y_train, **fit_params)\n",
      "C:\\ProgramData\\Anaconda3\\lib\\site-packages\\sklearn\\model_selection\\_validation.py:531: DataConversionWarning: A column-vector y was passed when a 1d array was expected. Please change the shape of y to (n_samples, ), for example using ravel().\n",
      "  estimator.fit(X_train, y_train, **fit_params)\n",
      "C:\\ProgramData\\Anaconda3\\lib\\site-packages\\sklearn\\model_selection\\_validation.py:531: DataConversionWarning: A column-vector y was passed when a 1d array was expected. Please change the shape of y to (n_samples, ), for example using ravel().\n",
      "  estimator.fit(X_train, y_train, **fit_params)\n",
      "C:\\ProgramData\\Anaconda3\\lib\\site-packages\\sklearn\\model_selection\\_validation.py:531: DataConversionWarning: A column-vector y was passed when a 1d array was expected. Please change the shape of y to (n_samples, ), for example using ravel().\n",
      "  estimator.fit(X_train, y_train, **fit_params)\n",
      "C:\\ProgramData\\Anaconda3\\lib\\site-packages\\sklearn\\model_selection\\_validation.py:531: DataConversionWarning: A column-vector y was passed when a 1d array was expected. Please change the shape of y to (n_samples, ), for example using ravel().\n",
      "  estimator.fit(X_train, y_train, **fit_params)\n",
      "C:\\ProgramData\\Anaconda3\\lib\\site-packages\\sklearn\\model_selection\\_validation.py:531: DataConversionWarning: A column-vector y was passed when a 1d array was expected. Please change the shape of y to (n_samples, ), for example using ravel().\n",
      "  estimator.fit(X_train, y_train, **fit_params)\n",
      "C:\\ProgramData\\Anaconda3\\lib\\site-packages\\sklearn\\model_selection\\_validation.py:531: DataConversionWarning: A column-vector y was passed when a 1d array was expected. Please change the shape of y to (n_samples, ), for example using ravel().\n",
      "  estimator.fit(X_train, y_train, **fit_params)\n",
      "C:\\ProgramData\\Anaconda3\\lib\\site-packages\\sklearn\\model_selection\\_validation.py:531: DataConversionWarning: A column-vector y was passed when a 1d array was expected. Please change the shape of y to (n_samples, ), for example using ravel().\n",
      "  estimator.fit(X_train, y_train, **fit_params)\n",
      "C:\\ProgramData\\Anaconda3\\lib\\site-packages\\sklearn\\model_selection\\_validation.py:531: DataConversionWarning: A column-vector y was passed when a 1d array was expected. Please change the shape of y to (n_samples, ), for example using ravel().\n",
      "  estimator.fit(X_train, y_train, **fit_params)\n",
      "C:\\ProgramData\\Anaconda3\\lib\\site-packages\\sklearn\\model_selection\\_validation.py:531: DataConversionWarning: A column-vector y was passed when a 1d array was expected. Please change the shape of y to (n_samples, ), for example using ravel().\n",
      "  estimator.fit(X_train, y_train, **fit_params)\n",
      "C:\\ProgramData\\Anaconda3\\lib\\site-packages\\sklearn\\model_selection\\_validation.py:531: DataConversionWarning: A column-vector y was passed when a 1d array was expected. Please change the shape of y to (n_samples, ), for example using ravel().\n",
      "  estimator.fit(X_train, y_train, **fit_params)\n",
      "C:\\ProgramData\\Anaconda3\\lib\\site-packages\\sklearn\\model_selection\\_validation.py:531: DataConversionWarning: A column-vector y was passed when a 1d array was expected. Please change the shape of y to (n_samples, ), for example using ravel().\n",
      "  estimator.fit(X_train, y_train, **fit_params)\n",
      "C:\\ProgramData\\Anaconda3\\lib\\site-packages\\sklearn\\model_selection\\_validation.py:531: DataConversionWarning: A column-vector y was passed when a 1d array was expected. Please change the shape of y to (n_samples, ), for example using ravel().\n",
      "  estimator.fit(X_train, y_train, **fit_params)\n",
      "C:\\ProgramData\\Anaconda3\\lib\\site-packages\\sklearn\\model_selection\\_validation.py:531: DataConversionWarning: A column-vector y was passed when a 1d array was expected. Please change the shape of y to (n_samples, ), for example using ravel().\n",
      "  estimator.fit(X_train, y_train, **fit_params)\n",
      "C:\\ProgramData\\Anaconda3\\lib\\site-packages\\sklearn\\model_selection\\_validation.py:531: DataConversionWarning: A column-vector y was passed when a 1d array was expected. Please change the shape of y to (n_samples, ), for example using ravel().\n",
      "  estimator.fit(X_train, y_train, **fit_params)\n",
      "C:\\ProgramData\\Anaconda3\\lib\\site-packages\\sklearn\\model_selection\\_validation.py:531: DataConversionWarning: A column-vector y was passed when a 1d array was expected. Please change the shape of y to (n_samples, ), for example using ravel().\n",
      "  estimator.fit(X_train, y_train, **fit_params)\n",
      "C:\\ProgramData\\Anaconda3\\lib\\site-packages\\sklearn\\model_selection\\_validation.py:531: DataConversionWarning: A column-vector y was passed when a 1d array was expected. Please change the shape of y to (n_samples, ), for example using ravel().\n",
      "  estimator.fit(X_train, y_train, **fit_params)\n",
      "C:\\ProgramData\\Anaconda3\\lib\\site-packages\\sklearn\\model_selection\\_validation.py:531: DataConversionWarning: A column-vector y was passed when a 1d array was expected. Please change the shape of y to (n_samples, ), for example using ravel().\n",
      "  estimator.fit(X_train, y_train, **fit_params)\n",
      "C:\\ProgramData\\Anaconda3\\lib\\site-packages\\sklearn\\model_selection\\_validation.py:531: DataConversionWarning: A column-vector y was passed when a 1d array was expected. Please change the shape of y to (n_samples, ), for example using ravel().\n",
      "  estimator.fit(X_train, y_train, **fit_params)\n",
      "C:\\ProgramData\\Anaconda3\\lib\\site-packages\\sklearn\\model_selection\\_search.py:765: DataConversionWarning: A column-vector y was passed when a 1d array was expected. Please change the shape of y to (n_samples, ), for example using ravel().\n",
      "  self.best_estimator_.fit(X, y, **fit_params)\n"
     ]
    },
    {
     "name": "stdout",
     "output_type": "stream",
     "text": [
      "Best parameters set found on development set:\n",
      "\n",
      "{'algorithm': 'auto', 'n_neighbors': 3}\n",
      "\n",
      "Grid scores on development set:\n",
      "\n",
      "0.830 (+/-0.046) for {'algorithm': 'auto', 'n_neighbors': 3}\n",
      "0.593 (+/-0.400) for {'algorithm': 'auto', 'n_neighbors': 5}\n",
      "0.745 (+/-0.317) for {'algorithm': 'auto', 'n_neighbors': 7}\n",
      "0.746 (+/-0.312) for {'algorithm': 'auto', 'n_neighbors': 9}\n",
      "0.514 (+/-0.330) for {'algorithm': 'ball_tree', 'n_neighbors': 3}\n",
      "0.746 (+/-0.318) for {'algorithm': 'ball_tree', 'n_neighbors': 5}\n",
      "0.828 (+/-0.049) for {'algorithm': 'ball_tree', 'n_neighbors': 7}\n",
      "0.746 (+/-0.325) for {'algorithm': 'ball_tree', 'n_neighbors': 9}\n",
      "0.830 (+/-0.046) for {'algorithm': 'kd_tree', 'n_neighbors': 3}\n",
      "0.593 (+/-0.400) for {'algorithm': 'kd_tree', 'n_neighbors': 5}\n",
      "0.745 (+/-0.317) for {'algorithm': 'kd_tree', 'n_neighbors': 7}\n",
      "0.746 (+/-0.312) for {'algorithm': 'kd_tree', 'n_neighbors': 9}\n",
      "0.746 (+/-0.319) for {'algorithm': 'brute', 'n_neighbors': 3}\n",
      "0.676 (+/-0.400) for {'algorithm': 'brute', 'n_neighbors': 5}\n",
      "0.676 (+/-0.400) for {'algorithm': 'brute', 'n_neighbors': 7}\n",
      "0.676 (+/-0.400) for {'algorithm': 'brute', 'n_neighbors': 9}\n",
      "\n",
      "Detailed classification report:\n",
      "\n",
      "The model is trained on the full development set.\n",
      "The scores are computed on the full evaluation set.\n",
      "\n"
     ]
    }
   ],
   "source": [
    "tuned_parameters = [{'n_neighbors': [3,5,7,9], 'algorithm' : ['auto', 'ball_tree', 'kd_tree', 'brute']}]\n",
    "print(\"# Tuning hyper-parameters for %s\" % score)\n",
    "print()\n",
    "clf = GridSearchCV(\n",
    "KNeighborsClassifier() , tuned_parameters)\n",
    "clf.fit(x_train, y_train)\n",
    "print(\"Best parameters set found on development set:\")\n",
    "print()\n",
    "print(clf.best_params_)\n",
    "print()\n",
    "print(\"Grid scores on development set:\")\n",
    "print()\n",
    "means = clf.cv_results_['mean_test_score']\n",
    "stds = clf.cv_results_['std_test_score']\n",
    "for mean, std, params in zip(means, stds, clf.cv_results_['params']):\n",
    "    print(\"%0.3f (+/-%0.03f) for %r\"\n",
    "        % (mean, std * 2, params))\n",
    "print()\n",
    "print(\"Detailed classification report:\")\n",
    "print()\n",
    "print(\"The model is trained on the full development set.\")\n",
    "print(\"The scores are computed on the full evaluation set.\")\n",
    "print()"
   ]
  },
  {
   "cell_type": "markdown",
   "metadata": {},
   "source": [
    "# Now lets check precision,recall"
   ]
  },
  {
   "cell_type": "code",
   "execution_count": 52,
   "metadata": {},
   "outputs": [
    {
     "name": "stdout",
     "output_type": "stream",
     "text": [
      "              precision    recall  f1-score   support\n",
      "\n",
      "           0       1.00      0.59      0.74        83\n",
      "           1       0.77      1.00      0.87       117\n",
      "\n",
      "    accuracy                           0.83       200\n",
      "   macro avg       0.89      0.80      0.81       200\n",
      "weighted avg       0.87      0.83      0.82       200\n",
      "\n",
      "\n"
     ]
    }
   ],
   "source": [
    "from sklearn.metrics import classification_report\n",
    "y_true, y_pred = y_test, clf.predict(x_test)\n",
    "print(classification_report(y_true, y_pred))\n",
    "print()"
   ]
  },
  {
   "cell_type": "markdown",
   "metadata": {},
   "source": [
    "# lets see confusion matrix to see how good it predicted true values"
   ]
  },
  {
   "cell_type": "code",
   "execution_count": 53,
   "metadata": {},
   "outputs": [],
   "source": [
    "from sklearn.metrics import confusion_matrix"
   ]
  },
  {
   "cell_type": "code",
   "execution_count": 54,
   "metadata": {},
   "outputs": [
    {
     "name": "stdout",
     "output_type": "stream",
     "text": [
      "[[ 49  34]\n",
      " [  0 117]]\n"
     ]
    }
   ],
   "source": [
    "print(confusion_matrix(y_true, y_pred))"
   ]
  },
  {
   "cell_type": "code",
   "execution_count": null,
   "metadata": {},
   "outputs": [],
   "source": []
  }
 ],
 "metadata": {
  "kernelspec": {
   "display_name": "Python 3",
   "language": "python",
   "name": "python3"
  },
  "language_info": {
   "codemirror_mode": {
    "name": "ipython",
    "version": 3
   },
   "file_extension": ".py",
   "mimetype": "text/x-python",
   "name": "python",
   "nbconvert_exporter": "python",
   "pygments_lexer": "ipython3",
   "version": "3.8.3"
  }
 },
 "nbformat": 4,
 "nbformat_minor": 4
}
